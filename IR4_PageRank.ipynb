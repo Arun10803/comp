{
 "cells": [
  {
   "cell_type": "markdown",
   "id": "86e7a88c",
   "metadata": {},
   "source": [
    "# Implement Page Rank Algorithm. (Use python or beautiful soup for implementation)."
   ]
  },
  {
   "cell_type": "code",
   "execution_count": 1,
   "id": "61c07f50",
   "metadata": {},
   "outputs": [
    {
     "name": "stdout",
     "output_type": "stream",
     "text": [
      "PageRank: [0.36403353 0.19221389 0.32456132 0.11919126]\n"
     ]
    }
   ],
   "source": [
    "import numpy as np\n",
    "\n",
    "def pagerank(adj_matrix, damping_factor=0.85, max_iters=100, tol=1.0e-6):\n",
    "    \"\"\"\n",
    "    Computes the PageRank for each page in a graph.\n",
    "    \n",
    "    Parameters:\n",
    "    - adj_matrix: np.array, adjacency matrix where adj_matrix[i][j] means a link from j to i.\n",
    "    - damping_factor: float, probability of following a link (1 - damping_factor is the probability of teleporting).\n",
    "    - max_iters: int, the maximum number of iterations.\n",
    "    - tol: float, tolerance to decide when to stop iterations.\n",
    "    \n",
    "    Returns:\n",
    "    - page_rank: np.array, the PageRank values for each page.\n",
    "    \"\"\"\n",
    "    n = adj_matrix.shape[0]\n",
    "    \n",
    "    # Create a stochastic matrix by dividing each column by the sum of the column\n",
    "    column_sums = np.sum(adj_matrix, axis=0)\n",
    "    stochastic_matrix = np.divide(adj_matrix, column_sums, where=column_sums!=0)\n",
    "\n",
    "    # Initialize PageRank vector with equal probability for each page\n",
    "    page_rank = np.ones(n) / n\n",
    "    \n",
    "    # Iterative calculation of PageRank\n",
    "    for _ in range(max_iters):\n",
    "        new_page_rank = ((1 - damping_factor) / n) + damping_factor * stochastic_matrix.dot(page_rank)\n",
    "        \n",
    "        # Check for convergence\n",
    "        if np.linalg.norm(new_page_rank - page_rank, 1) < tol:\n",
    "            break\n",
    "        page_rank = new_page_rank\n",
    "    \n",
    "    return page_rank\n",
    "\n",
    "# Example adjacency matrix representing 4 pages\n",
    "# Page 1 -> Page 2, Page 1 -> Page 3\n",
    "# Page 2 -> Page 3, Page 2 -> Page 4\n",
    "# Page 3 -> Page 1\n",
    "# Page 4 -> Page 1, Page 4 -> Page 3\n",
    "adj_matrix = np.array([[0, 0, 1, 1],\n",
    "                       [1, 0, 0, 0],\n",
    "                       [1, 1, 0, 1],\n",
    "                       [0, 1, 0, 0]])\n",
    "\n",
    "# Calculate PageRank\n",
    "page_rank = pagerank(adj_matrix)\n",
    "print(\"PageRank:\", page_rank)\n"
   ]
  },
  {
   "cell_type": "code",
   "execution_count": 3,
   "id": "8de7323c",
   "metadata": {},
   "outputs": [
    {
     "data": {
      "text/plain": [
       "'Result\\nThe final PageRank vector (e.g., [0.327, 0.166, 0.327, 0.180]) indicates the relative importance of each page. The higher the value, the more important the page is in the network.'"
      ]
     },
     "execution_count": 3,
     "metadata": {},
     "output_type": "execute_result"
    }
   ],
   "source": [
    "'''Result\n",
    "The final PageRank vector (e.g., [0.327, 0.166, 0.327, 0.180]) indicates the relative importance of each page. The higher the value, the more important the page is in the network.'''"
   ]
  },
  {
   "cell_type": "code",
   "execution_count": null,
   "id": "df01de30",
   "metadata": {},
   "outputs": [],
   "source": [
    "'''\n",
    "The code implements the PageRank algorithm, which is used to rank pages in a graph (such as web pages) based on their importance. Here's a short explanation of how it works:\n",
    "\n",
    "Function Explanation:\n",
    "pagerank(): This function computes the PageRank scores for each page in a graph represented by an adjacency matrix.\n",
    "Parameters:\n",
    "adj_matrix: The adjacency matrix represents the links between pages. If adj_matrix[i][j] is non-zero, it indicates a link from page j to page i.\n",
    "damping_factor: This is the probability that a user will follow a link (usually set to 0.85). The remaining probability (0.15) represents \"teleporting,\" where the user jumps to a random page.\n",
    "max_iters: The maximum number of iterations to run the PageRank calculation.\n",
    "tol: Tolerance for convergence. If the change in the PageRank values between iterations is smaller than this, the algorithm stops early.\n",
    "Steps in the Function:\n",
    "Create Stochastic Matrix:\n",
    "\n",
    "Normalize the adjacency matrix column-wise (divide each column by its sum) to ensure the sum of each column equals 1. This transforms the matrix into a stochastic matrix where each column represents a probability distribution.\n",
    "Initialize PageRank:\n",
    "\n",
    "Set the initial PageRank values (page_rank) to be equal for all pages (i.e., 1/n for n pages).\n",
    "Iterative Calculation:\n",
    "\n",
    "In each iteration, update the page_rank vector using the formula:\n",
    "new_page_rank\n",
    "=\n",
    "(\n",
    "1\n",
    "−\n",
    "damping_factor\n",
    "𝑛\n",
    ")\n",
    "+\n",
    "damping_factor\n",
    "×\n",
    "stochastic_matrix\n",
    "×\n",
    "page_rank\n",
    "new_page_rank=( \n",
    "n\n",
    "1−damping_factor\n",
    "​\n",
    " )+damping_factor×stochastic_matrix×page_rank\n",
    "This combines the teleportation factor and the link-following factor.\n",
    "Convergence Check:\n",
    "\n",
    "If the change in the page_rank values between iterations is smaller than the specified tolerance (tol), the algorithm stops early.\n",
    "Return PageRank:\n",
    "\n",
    "After the iterations, the final page_rank vector is returned, which represents the importance of each page.\n",
    "Example:\n",
    "An example adjacency matrix is given for a graph with 4 pages.\n",
    "The matrix indicates which pages link to others (e.g., Page 1 links to Pages 2 and 3, and so on).\n",
    "The function calculates the PageRank scores for these pages and prints the result.\n",
    "Output:\n",
    "The PageRank values are printed for each of the 4 pages, indicating their relative importance based on the link structure in the graph.\n",
    "\n",
    "Key Concepts:\n",
    "Damping Factor: Represents the probability of following links versus teleporting.\n",
    "Stochastic Matrix: Each column in the adjacency matrix is normalized to sum to 1, ensuring it represents probabilities.\n",
    "Convergence: The algorithm stops when the PageRank values stabilize, indicating that further iterations won’t change the results significantly.\n",
    "'''"
   ]
  }
 ],
 "metadata": {
  "kernelspec": {
   "display_name": "Python 3 (ipykernel)",
   "language": "python",
   "name": "python3"
  },
  "language_info": {
   "codemirror_mode": {
    "name": "ipython",
    "version": 3
   },
   "file_extension": ".py",
   "mimetype": "text/x-python",
   "name": "python",
   "nbconvert_exporter": "python",
   "pygments_lexer": "ipython3",
   "version": "3.12.4"
  }
 },
 "nbformat": 4,
 "nbformat_minor": 5
}
