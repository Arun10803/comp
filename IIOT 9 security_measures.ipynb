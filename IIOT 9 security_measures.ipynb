{
 "cells": [
  {
   "cell_type": "code",
   "execution_count": 2,
   "id": "53a5fcb0-bce9-4c07-9de1-b1fad7d9e3d3",
   "metadata": {},
   "outputs": [
    {
     "name": "stdout",
     "output_type": "stream",
     "text": [
      "Requirement already satisfied: cryptography in c:\\python\\lib\\site-packages (43.0.3)\n",
      "Requirement already satisfied: cffi>=1.12 in c:\\python\\lib\\site-packages (from cryptography) (1.17.1)\n",
      "Requirement already satisfied: pycparser in c:\\python\\lib\\site-packages (from cffi>=1.12->cryptography) (2.22)\n",
      "Note: you may need to restart the kernel to use updated packages.\n"
     ]
    },
    {
     "name": "stderr",
     "output_type": "stream",
     "text": [
      "\n",
      "[notice] A new release of pip is available: 24.1.2 -> 24.3.1\n",
      "[notice] To update, run: python.exe -m pip install --upgrade pip\n"
     ]
    }
   ],
   "source": [
    "pip install cryptography"
   ]
  },
  {
   "cell_type": "code",
   "execution_count": 10,
   "id": "d660c15b-c90a-49bc-a742-0c931c709eb7",
   "metadata": {},
   "outputs": [],
   "source": [
    "import hashlib  # For hashing to ensure data integrity\n",
    "from cryptography.fernet import Fernet  # For encryption\n",
    "import random  # For simulating sensor data\n",
    "import numpy as np"
   ]
  },
  {
   "cell_type": "code",
   "execution_count": 11,
   "id": "0c6f5757-6335-481e-8b4c-9e87fc86d956",
   "metadata": {},
   "outputs": [],
   "source": [
    "    # Import necessary libraries\n",
    "import hashlib  # For hashing to ensure data integrity\n",
    "from cryptography.fernet import Fernet  # For encryption\n",
    "import random  # For simulating sensor data"
   ]
  },
  {
   "cell_type": "code",
   "execution_count": 12,
   "id": "35159ae1-f19f-46cc-ba41-b2152a46dec0",
   "metadata": {},
   "outputs": [],
   "source": [
    "# Generate an encryption key\n",
    "key = Fernet.generate_key()\n",
    "cipher = Fernet(key)"
   ]
  },
  {
   "cell_type": "code",
   "execution_count": 13,
   "id": "4c014f82-baad-4e60-aaf3-58b733c8fc61",
   "metadata": {},
   "outputs": [],
   "source": [
    "\n",
    "def get_sensor_data():\n",
    "    return random.uniform(50, 100)  # Random temperature between 50°C and 100°C\n",
    "\n",
    "# Encrypt the sensor data\n",
    "def encrypt_data(data, cipher):\n",
    "    return cipher.encrypt(data.encode())\n",
    "\n",
    "    # Decrypt the sensor data\n",
    "def decrypt_data(encrypted_data, cipher):\n",
    "    return cipher.decrypt(encrypted_data).decode()\n",
    "\n",
    "    # Verify data integrity using hashing\n",
    "def verify_data_integrity(data):\n",
    "    return hashlib.sha256(data.encode()).hexdigest()"
   ]
  },
  {
   "cell_type": "code",
   "execution_count": 14,
   "id": "763893ef-b043-45a5-81e3-edbcf13cb606",
   "metadata": {},
   "outputs": [
    {
     "name": "stdout",
     "output_type": "stream",
     "text": [
      "Original Data: Temperature: 94.04°C\n",
      "Encrypted Data: b'gAAAAABnLS2aLHMTaBL4xWE9PHGRL5SX8Hik_KH759usjjdUrd-Ujh2UghdWfu7U8ftB9zFB2waqgd4_WwRtw4z02T8l_QZk3ekl4Q3JzZd51FjD9JzQsd4='\n",
      "Decrypted Data: Temperature: 94.04°C\n"
     ]
    }
   ],
   "source": [
    "sensor_data = f\"Temperature: {get_sensor_data():.2f}°C\"\n",
    "print(\"Original Data:\", sensor_data)\n",
    "\n",
    "    # Encrypt and then decrypt the data\n",
    "encrypted_data = encrypt_data(sensor_data, cipher)\n",
    "print(\"Encrypted Data:\", encrypted_data)\n",
    "\n",
    "decrypted_data = decrypt_data(encrypted_data, cipher)\n",
    "print(\"Decrypted Data:\", decrypted_data)"
   ]
  },
  {
   "cell_type": "code",
   "execution_count": 15,
   "id": "1c8406ae-04fe-4cf4-9e94-f3c6f7533042",
   "metadata": {},
   "outputs": [],
   "source": [
    "#Original Data: Temperature: 87.62°C\n",
    "#Encrypted Data: b'gAAAAABnFhh2OvOIv0OVP3ooVF3y32p6lGGlqgOKile2LcdsHuaPiS-bwEwSeW-6FHPwUFFjxtM1EGXWgFqxex7iCNCCub-NFr7kVTTIoRN-6wPqLwI4wGo='\n",
    "#Decrypted Data: Temperature: 87.62°C"
   ]
  },
  {
   "cell_type": "code",
   "execution_count": 16,
   "id": "75fbd2e7-1533-4042-b0ce-c9410e7a4d4d",
   "metadata": {},
   "outputs": [
    {
     "name": "stdout",
     "output_type": "stream",
     "text": [
      "Data Integrity Verified: Hashes match.\n"
     ]
    }
   ],
   "source": [
    "original_hash = verify_data_integrity(sensor_data)\n",
    "decrypted_hash = verify_data_integrity(decrypted_data)\n",
    "if original_hash == decrypted_hash:\n",
    "    print(\"Data Integrity Verified: Hashes match.\")\n",
    "else:\n",
    "    print(\"Data Integrity Issue: Hashes do not match.\")\n",
    "\n",
    "#Data Integrity Verified: Hashes match.\n"
   ]
  },
  {
   "cell_type": "code",
   "execution_count": null,
   "id": "6b05aa98-69a4-4c1b-9377-16c0f329c155",
   "metadata": {},
   "outputs": [],
   "source": [
    "'''\n",
    "This code demonstrates how to securely handle sensor data using encryption and data integrity verification. Here's an explanation of each part of the code:\n",
    "\n",
    "Libraries and Modules:\n",
    "hashlib: This module provides hashing algorithms, such as SHA-256, which ensures data integrity by creating a unique hash for any given piece of data.\n",
    "\n",
    "cryptography.fernet.Fernet: This is a symmetric encryption module used to securely encrypt and decrypt data with a key. Fernet provides both encryption and decryption methods using the same key.\n",
    "\n",
    "random: Used to simulate sensor data (in this case, a random temperature value).\n",
    "\n",
    "numpy: Imported but not used in the code, so can be omitted.\n",
    "\n",
    "Key Parts of the Code:\n",
    "Key Generation:\n",
    "\n",
    "python\n",
    "Copy code\n",
    "key = Fernet.generate_key()\n",
    "cipher = Fernet(key)\n",
    "key = Fernet.generate_key(): Generates a random key for encryption.\n",
    "cipher = Fernet(key): Initializes a Fernet cipher object with the generated key, which will be used to encrypt and decrypt data.\n",
    "Simulated Sensor Data:\n",
    "\n",
    "python\n",
    "Copy code\n",
    "def get_sensor_data():\n",
    "    return random.uniform(50, 100)  # Random temperature between 50°C and 100°C\n",
    "get_sensor_data(): This function simulates a sensor reading by generating a random number between 50 and 100, representing temperature in Celsius.\n",
    "Encrypting Data:\n",
    "\n",
    "python\n",
    "Copy code\n",
    "def encrypt_data(data, cipher):\n",
    "    return cipher.encrypt(data.encode())\n",
    "encrypt_data(data, cipher): This function encrypts the sensor data. It first encodes the data (from string to bytes) using .encode() and then encrypts it with the cipher using Fernet's encrypt() method. The encrypted data is returned.\n",
    "Decrypting Data:\n",
    "\n",
    "python\n",
    "Copy code\n",
    "def decrypt_data(encrypted_data, cipher):\n",
    "    return cipher.decrypt(encrypted_data).decode()\n",
    "decrypt_data(encrypted_data, cipher): This function decrypts the previously encrypted data using the same cipher. After decryption, it decodes the data back to a string.\n",
    "Verifying Data Integrity:\n",
    "\n",
    "python\n",
    "Copy code\n",
    "def verify_data_integrity(data):\n",
    "    return hashlib.sha256(data.encode()).hexdigest()\n",
    "verify_data_integrity(data): This function generates a SHA-256 hash of the data. The hashlib.sha256() function hashes the data, and .hexdigest() converts the hash into a readable hexadecimal format. This hash serves as a fingerprint of the original data.\n",
    "Main Execution:\n",
    "Simulating Sensor Data:\n",
    "\n",
    "python\n",
    "Copy code\n",
    "sensor_data = f\"Temperature: {get_sensor_data():.2f}°C\"\n",
    "print(\"Original Data:\", sensor_data)\n",
    "The get_sensor_data() function is called, and the result is formatted into a string showing the temperature. This is printed as the original data.\n",
    "Encrypting the Data:\n",
    "\n",
    "python\n",
    "Copy code\n",
    "encrypted_data = encrypt_data(sensor_data, cipher)\n",
    "print(\"Encrypted Data:\", encrypted_data)\n",
    "The sensor data is encrypted using the encrypt_data() function, and the encrypted data is printed.\n",
    "Decrypting the Data:\n",
    "\n",
    "python\n",
    "Copy code\n",
    "decrypted_data = decrypt_data(encrypted_data, cipher)\n",
    "print(\"Decrypted Data:\", decrypted_data)\n",
    "The encrypted data is then decrypted back to the original string using the decrypt_data() function and printed as decrypted data.\n",
    "Checking Data Integrity:\n",
    "\n",
    "python\n",
    "Copy code\n",
    "original_hash = verify_data_integrity(sensor_data)\n",
    "decrypted_hash = verify_data_integrity(decrypted_data)\n",
    "if original_hash == decrypted_hash:\n",
    "    print(\"Data Integrity Verified: Hashes match.\")\n",
    "else:\n",
    "    print(\"Data Integrity Issue: Hashes do not match.\")\n",
    "The original hash (SHA-256 hash of the original data) and the decrypted hash (SHA-256 hash of the decrypted data) are computed.\n",
    "If the hashes match, it indicates that the data was not altered during encryption and decryption, ensuring data integrity.\n",
    "The result is printed, either confirming the data integrity or indicating an issue if the hashes do not match.\n",
    "Final Output:\n",
    "The program prints the following:\n",
    "\n",
    "The original data (simulated temperature reading).\n",
    "The encrypted data (ciphertext of the original data).\n",
    "The decrypted data (back to the original string).\n",
    "Whether the data integrity was maintained by comparing the hashes of the original and decrypted data.\n",
    "Summary:\n",
    "This code demonstrates how to:\n",
    "\n",
    "Encrypt and decrypt sensor data using symmetric encryption (Fernet).\n",
    "Verify data integrity by generating and comparing SHA-256 hashes of the original and decrypted data. This is useful for securely transmitting sensor data while ensuring that it has not been tampered with.\n",
    "\n",
    "\n",
    "'''"
   ]
  },
  {
   "cell_type": "code",
   "execution_count": null,
   "id": "d22a1a76-d1a4-4a31-82d3-eb7192e74584",
   "metadata": {},
   "outputs": [],
   "source": []
  },
  {
   "cell_type": "code",
   "execution_count": null,
   "id": "9eb08bc5-1cc3-4811-8712-d3f931db72f2",
   "metadata": {},
   "outputs": [],
   "source": []
  }
 ],
 "metadata": {
  "kernelspec": {
   "display_name": "Python 3 (ipykernel)",
   "language": "python",
   "name": "python3"
  },
  "language_info": {
   "codemirror_mode": {
    "name": "ipython",
    "version": 3
   },
   "file_extension": ".py",
   "mimetype": "text/x-python",
   "name": "python",
   "nbconvert_exporter": "python",
   "pygments_lexer": "ipython3",
   "version": "3.12.4"
  }
 },
 "nbformat": 4,
 "nbformat_minor": 5
}
